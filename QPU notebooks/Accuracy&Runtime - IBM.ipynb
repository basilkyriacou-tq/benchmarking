{
 "cells": [
  {
   "cell_type": "code",
   "execution_count": 1,
   "id": "829580e2",
   "metadata": {},
   "outputs": [],
   "source": [
    "import numpy as np\n",
    "import time\n",
    "import json\n",
    "\n",
    "import qiskit\n",
    "from qiskit import QuantumCircuit\n",
    "from qiskit_ibm_runtime import QiskitRuntimeService, Session, Options, Sampler"
   ]
  },
  {
   "attachments": {},
   "cell_type": "markdown",
   "id": "29391803",
   "metadata": {},
   "source": [
    "## Create circuit, and collect data from IBM quantum processing unit\n",
    "\n",
    "The following function 'run' receives shot data from an IBM device of specified token and instance."
   ]
  },
  {
   "cell_type": "code",
   "execution_count": null,
   "id": "46fca97d",
   "metadata": {},
   "outputs": [],
   "source": [
    "service = QiskitRuntimeService(channel=\"ibm_cloud\", token=\"INSERT TOKEN HERE\", instance=\"INSERT INSTANCE HERE\")\n",
    "def run(num_qubits):\n",
    "    qc = QuantumCircuit(num_qubits)\n",
    "\n",
    "    # RUN MODEL HERE\n",
    "    \n",
    "    ########################################################################\n",
    "    \n",
    "    # RUN ADJOINT MODEL HERE\n",
    "    \n",
    "    qc.measure_all()\n",
    "\n",
    "    options = Options()\n",
    "    options.resilience_level = 0 \n",
    "    options.execution.shots = 1000\n",
    "    options.optimization_level = 0\n",
    "    \n",
    "    start = time.time()\n",
    "    with Session(service=service, backend='ibm_algiers'):\n",
    "        sampler = Sampler(options=options)\n",
    "        job = sampler.run(qc)\n",
    "        res = job.result()\n",
    "    end = time.time()\n",
    "\n",
    "    return (res.quasi_dists[0],end-start)"
   ]
  },
  {
   "cell_type": "markdown",
   "id": "4c8bfd90",
   "metadata": {},
   "source": [
    "## For-loop over qubit range & save as a JSON"
   ]
  },
  {
   "cell_type": "code",
   "execution_count": null,
   "id": "1c54ccc0",
   "metadata": {},
   "outputs": [],
   "source": [
    "min_qubits = 2\n",
    "max_qubits = 18\n",
    "qubit_range = range(min_qubits,max_qubits + 2, 2)\n",
    "\n",
    "accuracies = np.zeros(len(qubit_range))\n",
    "runtimes = np.zeros(len(qubit_range))\n",
    "\n",
    "for i, num_qubits in enumerate(qubit_range):\n",
    "    accuracies[i], runtimes[i] =  run(num_qubits)\n",
    "    \n",
    "accuracy_and_time_dict = dict(zip(accuracies, runtimes))\n",
    "\n",
    "json_filename = ### INSERT JSON FILENAME AS A STRING\n",
    "with open(json_filename, \"w\") as f:\n",
    "    json.dump(accuracy_and_time_dict, f)"
   ]
  },
  {
   "cell_type": "code",
   "execution_count": null,
   "id": "a3122a8d",
   "metadata": {},
   "outputs": [],
   "source": []
  }
 ],
 "metadata": {
  "kernelspec": {
   "display_name": "Python 3 (ipykernel)",
   "language": "python",
   "name": "python3"
  },
  "language_info": {
   "codemirror_mode": {
    "name": "ipython",
    "version": 3
   },
   "file_extension": ".py",
   "mimetype": "text/x-python",
   "name": "python",
   "nbconvert_exporter": "python",
   "pygments_lexer": "ipython3",
   "version": "3.8.10"
  }
 },
 "nbformat": 4,
 "nbformat_minor": 5
}
