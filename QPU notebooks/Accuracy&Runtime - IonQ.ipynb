{
 "cells": [
  {
   "cell_type": "code",
   "execution_count": 1,
   "id": "829580e2",
   "metadata": {},
   "outputs": [],
   "source": [
    "import numpy as np\n",
    "import time\n",
    "import json\n",
    "\n",
    "from collections import Counter\n",
    "from braket.circuits import Circuit, Observable\n",
    "from braket.devices import LocalSimulator\n",
    "from braket.aws import AwsDevice"
   ]
  },
  {
   "attachments": {},
   "cell_type": "markdown",
   "id": "29391803",
   "metadata": {},
   "source": [
    "## Create circuit for IonQ quantum processing unit\n",
    "\n",
    "The following function uses AWS Braket to receives shot data from an IonQ device"
   ]
  },
  {
   "cell_type": "code",
   "execution_count": null,
   "id": "46fca97d",
   "metadata": {},
   "outputs": [],
   "source": [
    "\n",
    "def bracket_circuit(inputs, weights, num_qubits):\n",
    "    circuit = Circuit()\n",
    "    # RUN MODEL HERE\n",
    "    \n",
    "    ########################################################################\n",
    "    \n",
    "    # RUN ADJOINT MODEL HERE\n",
    "\n",
    "    return circuit\n"
   ]
  },
  {
   "attachments": {},
   "cell_type": "markdown",
   "id": "4c8bfd90",
   "metadata": {},
   "source": [
    "## For-loop over qubit range, collect data, & save as a JSON"
   ]
  },
  {
   "cell_type": "code",
   "execution_count": null,
   "id": "f32f9bb7",
   "metadata": {},
   "outputs": [],
   "source": [
    "min_qubits = 2\n",
    "max_qubits = 18\n",
    "qubit_range = range(min_qubits,max_qubits + 2, 2)\n",
    "final_result = {}\n",
    "\n",
    "\n",
    "for num_qubits in qubit_range:\n",
    "    qubit_res_all_attempts = []\n",
    "    time_all_attempts = []\n",
    "\n",
    "    QPU = AwsDevice('arn:aws:braket:::device/qpu/ionq/ionQdevice')\n",
    "    weights = (np.pi/4)*np.ones(num_qubits)\n",
    "    inputs = (np.pi/4)*np.ones(num_qubits//2)\n",
    "    \n",
    "    for i in range(10):\n",
    "        start = time.time()\n",
    "        circ = bracket_circuit(inputs, weights, num_qubits)\n",
    "        task = QPU.run(circ, shots=1000)\n",
    "        res = task.result()\n",
    "        total_time = time.time() - start\n",
    "        time_all_attempts.append(total_time)\n",
    "        qubit_res_all_attempts.append(res.measurement_counts)\n",
    "        \n",
    "    counter_list = qubit_res_all_attempts\n",
    "    counter_list_sum = sum(counter_list, Counter())\n",
    "    counter_list_mean = Counter({key : value/10 for key, value in counter_list_sum.items()})\n",
    "    counter_list_mean_sq = Counter({key : value**2 for key, value in counter_list_mean.items()})\n",
    "\n",
    "\n",
    "    counter_list_sq = [Counter({key : value**2 for key, value in elem.items()}) for elem in counter_list]\n",
    "    counter_list_sq_sum = sum(counter_list_sq, Counter())\n",
    "    counter_list_sq_mean = Counter({key : value/10 for key, value in counter_list_sq_sum.items()})\n",
    "    counter_list_std = Counter({key : value**0.5 for key, value in (counter_list_sq_mean - counter_list_mean_sq).items()})\n",
    "\n",
    "    print(f'For {num_qubits} qubits execution is finished')\n",
    "    final_res = {'result mean': counter_list_mean, \n",
    "                 'result std': counter_list_std,\n",
    "                 'time mean': np.mean(time_all_attempts, axis=0),\n",
    "                 'time std': np.std(time_all_attempts, axis=0),\n",
    "                 'all data results': qubit_res_all_attempts,\n",
    "                 'all data times': time_all_attempts}\n",
    "        \n",
    "    with open(f\"IonQ_{num_qubits}-qubits.json\", \"wb\") as f:\n",
    "        f.write(json.dumps({num_qubits: final_res}).encode(\"utf-8\"))"
   ]
  },
  {
   "cell_type": "code",
   "execution_count": null,
   "id": "a3122a8d",
   "metadata": {},
   "outputs": [],
   "source": []
  }
 ],
 "metadata": {
  "kernelspec": {
   "display_name": "Python 3 (ipykernel)",
   "language": "python",
   "name": "python3"
  },
  "language_info": {
   "codemirror_mode": {
    "name": "ipython",
    "version": 3
   },
   "file_extension": ".py",
   "mimetype": "text/x-python",
   "name": "python",
   "nbconvert_exporter": "python",
   "pygments_lexer": "ipython3",
   "version": "3.8.10"
  }
 },
 "nbformat": 4,
 "nbformat_minor": 5
}
